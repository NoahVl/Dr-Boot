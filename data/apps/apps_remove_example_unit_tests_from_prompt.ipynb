{
 "cells": [
  {
   "cell_type": "markdown",
   "source": [
    "# Removing example unit tests from APPS prompts\n",
    "Original code to extract example unit tests from CodeRL repo - Copyright (c) 2022, salesforce.com, inc.\n",
    "Adapted to work with APPS dataset from huggingface/datasets, instead of having to manually download the APPS dataset.\n",
    "\n",
    "# Reasoning\n",
    "The test example cases in the train dataset seem to be the same as the hidden tests in a lot of cases, so we want to remove them to avoid overfitting to the hidden test examples."
   ],
   "metadata": {
    "collapsed": false
   }
  },
  {
   "cell_type": "code",
   "execution_count": 1,
   "id": "a1c69778",
   "metadata": {
    "ExecuteTime": {
     "end_time": "2023-07-26T07:38:40.756595800Z",
     "start_time": "2023-07-26T07:38:38.138960800Z"
    }
   },
   "outputs": [
    {
     "name": "stderr",
     "output_type": "stream",
     "text": [
      "C:\\Users\\noahv\\.conda\\envs\\thesis\\lib\\site-packages\\tqdm\\auto.py:22: TqdmWarning: IProgress not found. Please update jupyter and ipywidgets. See https://ipywidgets.readthedocs.io/en/stable/user_install.html\n",
      "  from .autonotebook import tqdm as notebook_tqdm\n"
     ]
    }
   ],
   "source": [
    "# First party imports\n",
    "import json, os, random, io, pdb\n",
    "from tqdm import tqdm\n",
    "from random import random\n",
    "import numpy as np\n",
    "import glob \n",
    "import pickle as pkl \n",
    "import re\n",
    "\n",
    "# Second party imports\n",
    "from apps_dataset import load_apps_dataset, APPSTask"
   ]
  },
  {
   "cell_type": "code",
   "execution_count": 2,
   "id": "4337ec19",
   "metadata": {
    "ExecuteTime": {
     "end_time": "2023-07-26T07:38:42.678876400Z",
     "start_time": "2023-07-26T07:38:40.757597400Z"
    }
   },
   "outputs": [
    {
     "name": "stderr",
     "output_type": "stream",
     "text": [
      "No config specified, defaulting to: apps/all\n",
      "Found cached dataset apps (C:/Users/noahv/.cache/huggingface/datasets/codeparrot___apps/all/0.0.0/04ac807715d07d6e5cc580f59cdc8213cd7dc4529d0bb819cca72c9f8e8c1aa5)\n",
      "100%|██████████| 2/2 [00:00<00:00,  8.89it/s]\n"
     ]
    }
   ],
   "source": [
    "# Load the APPS dataset\n",
    "apps_dataset = load_apps_dataset()\n",
    "\n",
    "train_dataset = apps_dataset[\"train\"]\n",
    "test_dataset = apps_dataset[\"test\"]\n",
    "\n",
    "### IMPORTANT: SET TO DESIRED DATASET PORTION\n",
    "target_dataset = train_dataset"
   ]
  },
  {
   "cell_type": "markdown",
   "source": [
    "# Debugging"
   ],
   "metadata": {
    "collapsed": false
   }
  },
  {
   "cell_type": "code",
   "execution_count": 19,
   "outputs": [
    {
     "name": "stdout",
     "output_type": "stream",
     "text": [
      "Question:\n",
      "Codefortia is a small island country located somewhere in the West Pacific. It consists of $n$ settlements connected by $m$ bidirectional gravel roads. Curiously enough, the beliefs of the inhabitants require the time needed to pass each road to be equal either to $a$ or $b$ seconds. It's guaranteed that one can go between any pair of settlements by following a sequence of roads.\n",
      "\n",
      "Codefortia was recently struck by the financial crisis. Therefore, the king decided to abandon some of the roads so that:\n",
      "\n",
      "  it will be possible to travel between each pair of cities using the remaining roads only,  the sum of times required to pass each remaining road will be minimum possible (in other words, remaining roads must form minimum spanning tree, using the time to pass the road as its weight),  among all the plans minimizing the sum of times above, the time required to travel between the king's residence (in settlement $1$) and the parliament house (in settlement $p$) using the remaining roads only will be minimum possible. \n",
      "\n",
      "The king, however, forgot where the parliament house was. For each settlement $p = 1, 2, \\dots, n$, can you tell what is the minimum time required to travel between the king's residence and the parliament house (located in settlement $p$) after some roads are abandoned?\n",
      "\n",
      "\n",
      "-----Input-----\n",
      "\n",
      "The first line of the input contains four integers $n$, $m$, $a$ and $b$ ($2 \\leq n \\leq 70$, $n - 1 \\leq m \\leq 200$, $1 \\leq a < b \\leq 10^7$) — the number of settlements and gravel roads in Codefortia, and two possible travel times. Each of the following lines contains three integers $u, v, c$ ($1 \\leq u, v \\leq n$, $u \\neq v$, $c \\in \\{a, b\\}$) denoting a single gravel road between the settlements $u$ and $v$, which requires $c$ minutes to travel.\n",
      "\n",
      "You can assume that the road network is connected and has no loops or multiedges.\n",
      "\n",
      "\n",
      "-----Output-----\n",
      "\n",
      "Output a single line containing $n$ integers. The $p$-th of them should denote the minimum possible time required to travel from $1$ to $p$ after the selected roads are abandoned. Note that for each $p$ you can abandon a different set of roads.\n",
      "\n",
      "\n",
      "-----Examples-----\n",
      "Input\n",
      "5 5 20 25\n",
      "1 2 25\n",
      "2 3 25\n",
      "3 4 20\n",
      "4 5 20\n",
      "5 1 20\n",
      "\n",
      "Output\n",
      "0 25 60 40 20\n",
      "\n",
      "Input\n",
      "6 7 13 22\n",
      "1 2 13\n",
      "2 3 13\n",
      "1 4 22\n",
      "3 4 13\n",
      "4 5 13\n",
      "5 6 13\n",
      "6 1 13\n",
      "\n",
      "Output\n",
      "0 13 26 39 26 13\n",
      "\n",
      "\n",
      "\n",
      "-----Note-----\n",
      "\n",
      "The minimum possible sum of times required to pass each road in the first example is $85$ — exactly one of the roads with passing time $25$ must be abandoned. Note that after one of these roads is abandoned, it's now impossible to travel between settlements $1$ and $3$ in time $50$.\n",
      "\n",
      "\n",
      "Use Standard Input Format\n",
      "\n",
      "[ANSWER]\n",
      "\n",
      "2000\n"
     ]
    },
    {
     "data": {
      "text/plain": "'{\\n  \"inputs\": [\\n    \"5 5 20 25\\\\n1 2 25\\\\n2 3 25\\\\n3 4 20\\\\n4 5 20\\\\n5 1 20\\\\n\",\\n    \"6 7 13 22\\\\n1 2 13\\\\n2 3 13\\\\n1 4 22\\\\n3 4 13\\\\n4 5 13\\\\n5 6 13\\\\n6 1 13\\\\n\",\\n    \"2 1 1 2\\\\n2 1 1\\\\n\",\\n    \"2 1 9999999 10000000\\\\n1 2 10000000\\\\n\",\\n    \"3 3 78422 6789101\\\\n3 1 6789101\\\\n2 1 78422\\\\n2 3 78422\\\\n\",\\n    \"3 3 2770628 3912422\\\\n1 2 2770628\\\\n2 3 2770628\\\\n1 3 3912422\\\\n\",\\n    \"3 3 2566490 5132980\\\\n1 2 2566490\\\\n2 3 2566490\\\\n3 1 5132980\\\\n\",\\n    \"3 2 509529 5982470\\\\n1 2 509529\\\\n3 2 509529\\\\n\",\\n    \"3 2 1349740 8457492\\\\n2 1 1349740\\\\n3 1 1349740\\\\n\",\\n    \"3 2 150319 5002968\\\\n3 2 150319\\\\n1 2 5002968\\\\n\",\\n    \"3 2 990530 8623767\\\\n3 2 8623767\\\\n1 2 990530\\\\n\",\\n    \"3 2 810925 2022506\\\\n1 2 2022506\\\\n1 3 810925\\\\n\",\\n    \"3 2 1651136 5131013\\\\n1 2 5131013\\\\n3 2 5131013\\\\n\",\\n    \"3 2 451715 1577270\\\\n1 3 1577270\\\\n1 2 1577270\\\\n\",\\n    \"3 3 1291926 4943478\\\\n2 3 1291926\\\\n1 2 1291926\\\\n3 1 1291926\\\\n\",\\n    \"3 3 2132137 9084127\\\\n1 2 2132137\\\\n3 2 9084127\\\\n3 1 2132137\\\\n\",\\n    \"3 3 1126640 9858678\\\\n3 1 9858678\\\\n3 2 1126640\\\\n1 2 9858678\\\\n\",\\n    \"3 3 1966851 6439891\\\\n1 3 6439891\\\\n1 2 1966851\\\\n3 2 6439891\\\\n\",\\n    \"3 3 1787246 7806211\\\\n3 2 7806211\\\\n2 1 7806211\\\\n1 3 7806211\\\\n\"\\n  ],\\n  \"outputs\": [\\n    \"0 25 60 40 20\\\\n\",\\n    \"0 13 26 39 26 13\\\\n\",\\n    \"0 1\\\\n\",\\n    \"0 10000000\\\\n\",\\n    \"0 78422 156844\\\\n\",\\n    \"0 2770628 5541256\\\\n\",\\n    \"0 2566490 5132980\\\\n\",\\n    \"0 509529 1019058\\\\n\",\\n    \"0 1349740 1349740\\\\n\",\\n    \"0 5002968 5153287\\\\n\",\\n    \"0 990530 9614297\\\\n\",\\n    \"0 2022506 810925\\\\n\",\\n    \"0 5131013 10262026\\\\n\",\\n    \"0 1577270 1577270\\\\n\",\\n    \"0 1291926 1291926\\\\n\",\\n    \"0 2132137 2132137\\\\n\",\\n    \"0 9858678 9858678\\\\n\",\\n    \"0 1966851 6439891\\\\n\",\\n    \"0 7806211 7806211\\\\n\"\\n  ]\\n}'"
     },
     "execution_count": 19,
     "metadata": {},
     "output_type": "execute_result"
    }
   ],
   "source": [
    "from data.apps.apps_dataset import APPSTask, construct_prompt_from_task\n",
    "\n",
    "train_example_id = 2000\n",
    "\n",
    "print(construct_prompt_from_task(train_dataset[train_example_id], remove_example_test=False))\n",
    "\n",
    "\n",
    "\n",
    "case: APPSTask = train_dataset[train_example_id]\n",
    "\n",
    "print(case[\"problem_id\"])\n",
    "case[\"input_output\"]"
   ],
   "metadata": {
    "collapsed": false,
    "ExecuteTime": {
     "end_time": "2023-07-26T08:02:37.362569900Z",
     "start_time": "2023-07-26T08:02:37.340571900Z"
    }
   }
  },
  {
   "cell_type": "code",
   "execution_count": null,
   "outputs": [],
   "source": [],
   "metadata": {
    "collapsed": false
   }
  }
 ],
 "metadata": {
  "kernelspec": {
   "display_name": "Python 3",
   "language": "python",
   "name": "python3"
  },
  "language_info": {
   "codemirror_mode": {
    "name": "ipython",
    "version": 3
   },
   "file_extension": ".py",
   "mimetype": "text/x-python",
   "name": "python",
   "nbconvert_exporter": "python",
   "pygments_lexer": "ipython3",
   "version": "3.7.2"
  }
 },
 "nbformat": 4,
 "nbformat_minor": 5
}
