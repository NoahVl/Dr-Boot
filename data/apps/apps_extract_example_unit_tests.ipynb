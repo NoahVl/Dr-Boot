{
 "cells": [
  {
   "cell_type": "markdown",
   "source": [
    "# Extracting example test cases from the APPS dataset\n",
    "Original code from CodeRL repo - Copyright (c) 2022, salesforce.com, inc.\n",
    "All rights reserved.\n",
    "SPDX-License-Identifier: BSD-3-Clause\n",
    "For full license text, see the LICENSE file in https://github.com/salesforce/CodeRL/blob/main/LICENSE.txt\n",
    "or https://opensource.org/licenses/BSD-3-Clause\n",
    "\n",
    "Adapted to work with APPS dataset from huggingface/datasets, instead of having to manually download the APPS dataset."
   ],
   "metadata": {
    "collapsed": false
   },
   "id": "bf5f3a91c6c4e83b"
  },
  {
   "cell_type": "code",
   "execution_count": 107,
   "id": "a1c69778",
   "metadata": {
    "ExecuteTime": {
     "end_time": "2023-05-31T16:57:11.668768500Z",
     "start_time": "2023-05-31T16:57:11.656769900Z"
    }
   },
   "outputs": [],
   "source": [
    "# First party imports\n",
    "import json, os, random, io, pdb\n",
    "from tqdm import tqdm\n",
    "from random import random\n",
    "import numpy as np\n",
    "import glob \n",
    "import pickle as pkl \n",
    "import re\n",
    "\n",
    "# Second party imports\n",
    "from apps_dataset import load_apps_dataset, APPSTask"
   ]
  },
  {
   "cell_type": "code",
   "execution_count": 108,
   "id": "4337ec19",
   "metadata": {
    "ExecuteTime": {
     "end_time": "2023-05-31T16:57:12.952746900Z",
     "start_time": "2023-05-31T16:57:11.673769100Z"
    }
   },
   "outputs": [
    {
     "name": "stderr",
     "output_type": "stream",
     "text": [
      "No config specified, defaulting to: apps/all\n",
      "Found cached dataset apps (C:/Users/noahv/.cache/huggingface/datasets/codeparrot___apps/all/0.0.0/04ac807715d07d6e5cc580f59cdc8213cd7dc4529d0bb819cca72c9f8e8c1aa5)\n",
      "100%|██████████| 2/2 [00:00<00:00, 17.33it/s]\n"
     ]
    }
   ],
   "source": [
    "# Load the APPS dataset\n",
    "apps_dataset = load_apps_dataset()\n",
    "\n",
    "train_dataset = apps_dataset[\"train\"]\n",
    "test_dataset = apps_dataset[\"test\"]\n",
    "\n",
    "### IMPORTANT: SET TO DESIRED DATASET PORTION\n",
    "target_dataset = test_dataset"
   ]
  },
  {
   "cell_type": "code",
   "execution_count": 109,
   "outputs": [
    {
     "name": "stdout",
     "output_type": "stream",
     "text": [
      "True\n",
      "True\n"
     ]
    }
   ],
   "source": [
    "def check_if_key_matches_problem_id(dataset):\n",
    "    for i, problem in enumerate(dataset):\n",
    "        problem_id = problem[\"problem_id\"]\n",
    "        if problem_id != i:\n",
    "            print(\"Problem ID {} does not match index {}\".format(problem_id, i))\n",
    "            return False\n",
    "\n",
    "    return True\n",
    "\n",
    "print(check_if_key_matches_problem_id(train_dataset))\n",
    "print(check_if_key_matches_problem_id(test_dataset))"
   ],
   "metadata": {
    "collapsed": false,
    "ExecuteTime": {
     "end_time": "2023-05-31T16:57:15.554434400Z",
     "start_time": "2023-05-31T16:57:12.957745500Z"
    }
   },
   "id": "40d1ee61866ac57d"
  },
  {
   "cell_type": "markdown",
   "source": [
    "## Debugging"
   ],
   "metadata": {
    "collapsed": false
   },
   "id": "629e9d0477a1ae69"
  },
  {
   "cell_type": "code",
   "execution_count": 110,
   "outputs": [
    {
     "data": {
      "text/plain": "15"
     },
     "execution_count": 110,
     "metadata": {},
     "output_type": "execute_result"
    }
   ],
   "source": [
    "problem = train_dataset[15]\n",
    "problem[\"problem_id\"]"
   ],
   "metadata": {
    "collapsed": false,
    "ExecuteTime": {
     "end_time": "2023-05-31T16:57:15.598001700Z",
     "start_time": "2023-05-31T16:57:15.555436100Z"
    }
   },
   "id": "8a12851fc1710f76"
  },
  {
   "cell_type": "code",
   "execution_count": 111,
   "outputs": [
    {
     "data": {
      "text/plain": "\"Screen resolution of Polycarp's monitor is $a \\\\times b$ pixels. Unfortunately, there is one dead pixel at his screen. It has coordinates $(x, y)$ ($0 \\\\le x < a, 0 \\\\le y < b$). You can consider columns of pixels to be numbered from $0$ to $a-1$, and rows\\xa0— from $0$ to $b-1$.\\n\\nPolycarp wants to open a rectangular window of maximal size, which doesn't contain the dead pixel. The boundaries of the window should be parallel to the sides of the screen.\\n\\nPrint the maximal area (in pixels) of a window that doesn't contain the dead pixel inside itself.\\n\\n\\n-----Input-----\\n\\nIn the first line you are given an integer $t$ ($1 \\\\le t \\\\le 10^4$)\\xa0— the number of test cases in the test. In the next lines you are given descriptions of $t$ test cases.\\n\\nEach test case contains a single line which consists of $4$ integers $a, b, x$ and $y$ ($1 \\\\le a, b \\\\le 10^4$; $0 \\\\le x < a$; $0 \\\\le y < b$)\\xa0— the resolution of the screen and the coordinates of a dead pixel. It is guaranteed that $a+b>2$ (e.g. $a=b=1$ is impossible).\\n\\n\\n-----Output-----\\n\\nPrint $t$ integers\\xa0— the answers for each test case. Each answer should contain an integer equal to the maximal possible area (in pixels) of a rectangular window, that doesn't contain the dead pixel.\\n\\n\\n-----Example-----\\nInput\\n6\\n8 8 0 0\\n1 10 0 3\\n17 31 10 4\\n2 1 0 0\\n5 10 3 9\\n10 10 4 8\\n\\nOutput\\n56\\n6\\n442\\n1\\n45\\n80\\n\\n\\n\\n-----Note-----\\n\\nIn the first test case, the screen resolution is $8 \\\\times 8$, and the upper left pixel is a dead pixel. Here you can see one of two possible layouts of the maximal window. [Image]\""
     },
     "execution_count": 111,
     "metadata": {},
     "output_type": "execute_result"
    }
   ],
   "source": [
    "problem[\"question\"]"
   ],
   "metadata": {
    "collapsed": false,
    "ExecuteTime": {
     "end_time": "2023-05-31T16:57:15.605002500Z",
     "start_time": "2023-05-31T16:57:15.571769Z"
    }
   },
   "id": "6d4a6623cdfa62"
  },
  {
   "cell_type": "code",
   "execution_count": 112,
   "outputs": [
    {
     "data": {
      "text/plain": "[\"Screen resolution of Polycarp's monitor is $a \\\\times b$ pixels. Unfortunately, there is one dead pixel at his screen. It has coordinates $(x, y)$ ($0 \\\\le x < a, 0 \\\\le y < b$). You can consider columns of pixels to be numbered from $0$ to $a-1$, and rows\\xa0— from $0$ to $b-1$.\\n\",\n '\\n',\n \"Polycarp wants to open a rectangular window of maximal size, which doesn't contain the dead pixel. The boundaries of the window should be parallel to the sides of the screen.\\n\",\n '\\n',\n \"Print the maximal area (in pixels) of a window that doesn't contain the dead pixel inside itself.\\n\",\n '\\n',\n '\\n',\n '-----Input-----\\n',\n '\\n',\n 'In the first line you are given an integer $t$ ($1 \\\\le t \\\\le 10^4$)\\xa0— the number of test cases in the test. In the next lines you are given descriptions of $t$ test cases.\\n',\n '\\n',\n 'Each test case contains a single line which consists of $4$ integers $a, b, x$ and $y$ ($1 \\\\le a, b \\\\le 10^4$; $0 \\\\le x < a$; $0 \\\\le y < b$)\\xa0— the resolution of the screen and the coordinates of a dead pixel. It is guaranteed that $a+b>2$ (e.g. $a=b=1$ is impossible).\\n',\n '\\n',\n '\\n',\n '-----Output-----\\n',\n '\\n',\n \"Print $t$ integers\\xa0— the answers for each test case. Each answer should contain an integer equal to the maximal possible area (in pixels) of a rectangular window, that doesn't contain the dead pixel.\\n\",\n '\\n',\n '\\n',\n '-----Example-----\\n',\n 'Input\\n',\n '6\\n',\n '8 8 0 0\\n',\n '1 10 0 3\\n',\n '17 31 10 4\\n',\n '2 1 0 0\\n',\n '5 10 3 9\\n',\n '10 10 4 8\\n',\n '\\n',\n 'Output\\n',\n '56\\n',\n '6\\n',\n '442\\n',\n '1\\n',\n '45\\n',\n '80\\n',\n '\\n',\n '\\n',\n '\\n',\n '-----Note-----\\n',\n '\\n',\n 'In the first test case, the screen resolution is $8 \\\\times 8$, and the upper left pixel is a dead pixel. Here you can see one of two possible layouts of the maximal window. [Image]']"
     },
     "execution_count": 112,
     "metadata": {},
     "output_type": "execute_result"
    }
   ],
   "source": [
    "full_text = problem[\"question\"]\n",
    "\n",
    "# Reverse join operation where we put the text in a list based on the new line character\n",
    "lines = [line + \"\\n\" for line in full_text.split(\"\\n\")]\n",
    "lines[-1] = lines[-1].strip()\n",
    "lines"
   ],
   "metadata": {
    "collapsed": false,
    "ExecuteTime": {
     "end_time": "2023-05-31T16:57:15.606000700Z",
     "start_time": "2023-05-31T16:57:15.599002800Z"
    }
   },
   "id": "6cfd3f61a0d730d6"
  },
  {
   "cell_type": "code",
   "execution_count": 113,
   "outputs": [
    {
     "name": "stdout",
     "output_type": "stream",
     "text": [
      "Screen resolution of Polycarp's monitor is $a \\times b$ pixels. Unfortunately, there is one dead pixel at his screen. It has coordinates $(x, y)$ ($0 \\le x < a, 0 \\le y < b$). You can consider columns of pixels to be numbered from $0$ to $a-1$, and rows — from $0$ to $b-1$.\n",
      "\n",
      "Polycarp wants to open a rectangular window of maximal size, which doesn't contain the dead pixel. The boundaries of the window should be parallel to the sides of the screen.\n",
      "\n",
      "Print the maximal area (in pixels) of a window that doesn't contain the dead pixel inside itself.\n",
      "\n",
      "\n",
      "-----Input-----\n",
      "\n",
      "In the first line you are given an integer $t$ ($1 \\le t \\le 10^4$) — the number of test cases in the test. In the next lines you are given descriptions of $t$ test cases.\n",
      "\n",
      "Each test case contains a single line which consists of $4$ integers $a, b, x$ and $y$ ($1 \\le a, b \\le 10^4$; $0 \\le x < a$; $0 \\le y < b$) — the resolution of the screen and the coordinates of a dead pixel. It is guaranteed that $a+b>2$ (e.g. $a=b=1$ is impossible).\n",
      "\n",
      "\n",
      "-----Output-----\n",
      "\n",
      "Print $t$ integers — the answers for each test case. Each answer should contain an integer equal to the maximal possible area (in pixels) of a rectangular window, that doesn't contain the dead pixel.\n",
      "\n",
      "\n",
      "-----Example-----\n",
      "Input\n",
      "6\n",
      "8 8 0 0\n",
      "1 10 0 3\n",
      "17 31 10 4\n",
      "2 1 0 0\n",
      "5 10 3 9\n",
      "10 10 4 8\n",
      "\n",
      "Output\n",
      "56\n",
      "6\n",
      "442\n",
      "1\n",
      "45\n",
      "80\n",
      "\n",
      "\n",
      "\n",
      "-----Note-----\n",
      "\n",
      "In the first test case, the screen resolution is $8 \\times 8$, and the upper left pixel is a dead pixel. Here you can see one of two possible layouts of the maximal window. [Image]\n"
     ]
    }
   ],
   "source": [
    "print(full_text)"
   ],
   "metadata": {
    "collapsed": false,
    "ExecuteTime": {
     "end_time": "2023-05-31T16:57:15.615017600Z",
     "start_time": "2023-05-31T16:57:15.601002900Z"
    }
   },
   "id": "56aee8928dda8b7c"
  },
  {
   "cell_type": "code",
   "execution_count": 114,
   "outputs": [
    {
     "name": "stdout",
     "output_type": "stream",
     "text": [
      "{'inputs': ['1 7 3\\n', '10 10 0\\n', '1 -4 5\\n', '0 60 50\\n'], 'outputs': ['YES\\n', 'YES\\n', 'NO\\n', 'NO\\n']}\n"
     ]
    }
   ],
   "source": [
    "print(in_outs[15])"
   ],
   "metadata": {
    "collapsed": false,
    "ExecuteTime": {
     "end_time": "2023-05-31T16:57:15.672806800Z",
     "start_time": "2023-05-31T16:57:15.616019300Z"
    }
   },
   "id": "9132d18576d66b8d"
  },
  {
   "cell_type": "code",
   "execution_count": 115,
   "outputs": [
    {
     "name": "stdout",
     "output_type": "stream",
     "text": [
      "Screen resolution of Polycarp's monitor is $a \\times b$ pixels. Unfortunately, there is one dead pixel at his screen. It has coordinates $(x, y)$ ($0 \\le x < a, 0 \\le y < b$). You can consider columns of pixels to be numbered from $0$ to $a-1$, and rows — from $0$ to $b-1$.\n",
      "\n",
      "Polycarp wants to open a rectangular window of maximal size, which doesn't contain the dead pixel. The boundaries of the window should be parallel to the sides of the screen.\n",
      "\n",
      "Print the maximal area (in pixels) of a window that doesn't contain the dead pixel inside itself.\n",
      "\n",
      "\n",
      "-----Input-----\n",
      "\n",
      "In the first line you are given an integer $t$ ($1 \\le t \\le 10^4$) — the number of test cases in the test. In the next lines you are given descriptions of $t$ test cases.\n",
      "\n",
      "Each test case contains a single line which consists of $4$ integers $a, b, x$ and $y$ ($1 \\le a, b \\le 10^4$; $0 \\le x < a$; $0 \\le y < b$) — the resolution of the screen and the coordinates of a dead pixel. It is guaranteed that $a+b>2$ (e.g. $a=b=1$ is impossible).\n",
      "\n",
      "\n",
      "-----Output-----\n",
      "\n",
      "Print $t$ integers — the answers for each test case. Each answer should contain an integer equal to the maximal possible area (in pixels) of a rectangular window, that doesn't contain the dead pixel.\n",
      "\n",
      "\n",
      "-----Example-----\n",
      "Input\n",
      "6\n",
      "8 8 0 0\n",
      "1 10 0 3\n",
      "17 31 10 4\n",
      "2 1 0 0\n",
      "5 10 3 9\n",
      "10 10 4 8\n",
      "\n",
      "Output\n",
      "56\n",
      "6\n",
      "442\n",
      "1\n",
      "45\n",
      "80\n",
      "\n",
      "\n",
      "\n",
      "-----Note-----\n",
      "\n",
      "In the first test case, the screen resolution is $8 \\times 8$, and the upper left pixel is a dead pixel. Here you can see one of two possible layouts of the maximal window. [Image]\n"
     ]
    }
   ],
   "source": [
    "print(\"\".join(lines))"
   ],
   "metadata": {
    "collapsed": false,
    "ExecuteTime": {
     "end_time": "2023-05-31T16:57:15.681805300Z",
     "start_time": "2023-05-31T16:57:15.630794400Z"
    }
   },
   "id": "df53523a3b00a724"
  },
  {
   "cell_type": "code",
   "execution_count": 116,
   "outputs": [
    {
     "data": {
      "text/plain": "True"
     },
     "execution_count": 116,
     "metadata": {},
     "output_type": "execute_result"
    }
   ],
   "source": [
    "# See if they're equivalent\n",
    "full_text == \"\".join(lines)"
   ],
   "metadata": {
    "collapsed": false,
    "ExecuteTime": {
     "end_time": "2023-05-31T16:57:15.681805300Z",
     "start_time": "2023-05-31T16:57:15.645794600Z"
    }
   },
   "id": "80b46829f6a21c97"
  },
  {
   "cell_type": "code",
   "execution_count": 117,
   "outputs": [],
   "source": [
    "problem[\"test_example\"] = \"test\""
   ],
   "metadata": {
    "collapsed": false,
    "ExecuteTime": {
     "end_time": "2023-05-31T16:57:15.682805300Z",
     "start_time": "2023-05-31T16:57:15.660796200Z"
    }
   },
   "id": "e2875b3dd2d24f74"
  },
  {
   "cell_type": "code",
   "execution_count": 118,
   "outputs": [
    {
     "data": {
      "text/plain": "{'problem_id': 15,\n 'question': \"Screen resolution of Polycarp's monitor is $a \\\\times b$ pixels. Unfortunately, there is one dead pixel at his screen. It has coordinates $(x, y)$ ($0 \\\\le x < a, 0 \\\\le y < b$). You can consider columns of pixels to be numbered from $0$ to $a-1$, and rows\\xa0— from $0$ to $b-1$.\\n\\nPolycarp wants to open a rectangular window of maximal size, which doesn't contain the dead pixel. The boundaries of the window should be parallel to the sides of the screen.\\n\\nPrint the maximal area (in pixels) of a window that doesn't contain the dead pixel inside itself.\\n\\n\\n-----Input-----\\n\\nIn the first line you are given an integer $t$ ($1 \\\\le t \\\\le 10^4$)\\xa0— the number of test cases in the test. In the next lines you are given descriptions of $t$ test cases.\\n\\nEach test case contains a single line which consists of $4$ integers $a, b, x$ and $y$ ($1 \\\\le a, b \\\\le 10^4$; $0 \\\\le x < a$; $0 \\\\le y < b$)\\xa0— the resolution of the screen and the coordinates of a dead pixel. It is guaranteed that $a+b>2$ (e.g. $a=b=1$ is impossible).\\n\\n\\n-----Output-----\\n\\nPrint $t$ integers\\xa0— the answers for each test case. Each answer should contain an integer equal to the maximal possible area (in pixels) of a rectangular window, that doesn't contain the dead pixel.\\n\\n\\n-----Example-----\\nInput\\n6\\n8 8 0 0\\n1 10 0 3\\n17 31 10 4\\n2 1 0 0\\n5 10 3 9\\n10 10 4 8\\n\\nOutput\\n56\\n6\\n442\\n1\\n45\\n80\\n\\n\\n\\n-----Note-----\\n\\nIn the first test case, the screen resolution is $8 \\\\times 8$, and the upper left pixel is a dead pixel. Here you can see one of two possible layouts of the maximal window. [Image]\",\n 'solutions': '[\"from math import *\\\\n\\\\nzzz = int(input())\\\\nfor zz in range(zzz):\\\\n    a, b, x, y = list(map(int, input().split()))\\\\n    print(max(x*b, (a-x-1)*b, y*a, (b - y - 1)*a))\\\\n\", \"for t in range(int(input())):\\\\n    a, b, x, y = [int(i) for i in input().split()]\\\\n    l = max(x, a - 1 - x)\\\\n    h = max(y, b - 1 - y)\\\\n    print(max(l * b, h * a))\\\\n\", \"for _ in range(int(input())):\\\\n    a, b, x, y = list(map(int, input().split()))\\\\n    num1 = x * b\\\\n    num2 = y * a\\\\n    num3 = (a - x - 1) * b\\\\n    num4 = (b - y - 1) * a\\\\n    print(max(num2, num1, num3, num4))\", \"for _ in range(int(input())):\\\\n    a, b, x, y = map(int, input().split())\\\\n    w = max(a-1-x, x)\\\\n    h = max(b-1-y, y)\\\\n\\\\n    ans = max(w * b, h * a)\\\\n    print(ans)\", \"for _ in range(int(input())):\\\\n    a, b, x, y = list(map(int, input().split()))\\\\n    print(max(x*b, y*a, (a-x-1)*b, (b-y-1)*a))\\\\n\", \"t = int(input())\\\\nfor _ in range(t):\\\\n\\\\ta, b, x, y = map(int, input().split())\\\\n\\\\tr = max([a*y, a*(b-y-1), b*x, b*(a-x-1)])\\\\n\\\\tprint(r)\", \"t = int(input())\\\\nfor _ in range(t):\\\\n    a, b, x, y = list(map(int, input().split()))\\\\n    print(max(a*y, a*(b-y-1), x*b, (a-x-1)*b))\\\\n\", \"t = int(input())\\\\nfor _ in range(t):\\\\n\\\\ta, b, x, y = map(int, input().split())\\\\n\\\\n\\\\tl = max(a*y, a*(b-y-1))\\\\n\\\\tll = max(b*x, b*(a-x-1))\\\\n\\\\tprint(max(l, ll))\", \"import sys\\\\ninput = sys.stdin.readline\\\\nfor k in range(int(input())):\\\\n    a, b, x, y = list(map(int, input().split(\\\\\" \\\\\")))\\\\n    print(max(a*y, b*x, (b-1-y)*a, (a-1-x)*b)) \\\\n\", \"import sys\\\\ninput = sys.stdin.readline\\\\nt = int(input())\\\\nfor _ in range(t):\\\\n  h,w,x,y = map(int,input().split())\\\\n  can = [h*y,h*(w-1-y),w*x,w*(h-1-x)]\\\\n  print(max(can))\", \"t = int(input())\\\\nfor _ in range(t):\\\\n  n,m,a,b = map(int,input().split())\\\\n  print(max(max(a,n-a-1)*m,max(b,m-b-1)*n))\", \"# from collections import deque\\\\nimport sys\\\\ninput = lambda: sys.stdin.readline().strip()\\\\nfor i in range(int(input())):\\\\n    a,b,x,y = map(int,input().split())\\\\n    print(max(a*y,b*x,a*(b-y-1),b*(a-x-1)))\", \"for _ in range(int(input())):\\\\n    n,m,x,y=map(int,input().split())\\\\n    s=0\\\\n    s=max(s,x*m)\\\\n    s=max(s,(n-x-1)*m)\\\\n    s=max(s,y*n)\\\\n    s=max(s,(m-y-1)*n)\\\\n    print(s)\", \"t = int(input())\\\\nfor i in range(t):\\\\n    a, b, x, y = list(map(int, input().split()))\\\\n    print(max(x * b, y * a, (a - x - 1) * b, (b - y - 1) * a))\\\\n\", \"t = int(input())\\\\nfor _ in range(t):\\\\n    a,b,x,y = map(int, input().split())\\\\n    print(max([x*b,(a-x-1)*b,a*y,a*(b-y-1)]))\", \"from math import *\\\\nfrom collections import *\\\\nt = int(input())\\\\nfor y in range(t):\\\\n\\\\ta,b,x,y = map(int,input().split())\\\\n\\\\tl = max(x,a-x-1)\\\\n\\\\tw = max(y,b-y-1)\\\\n\\\\tprint(max(l*b,a*w))\", \"import sys\\\\nimport math\\\\nfrom collections import defaultdict\\\\nfrom collections import deque\\\\nfrom itertools import combinations\\\\nfrom itertools import permutations\\\\ninput = lambda : sys.stdin.readline().rstrip()\\\\nread = lambda : list(map(int, input().split()))\\\\ngo = lambda : 1/0\\\\ndef write(*args, sep=\\\\\"\\\\\\\\n\\\\\"):\\\\n  for i in args:\\\\n    sys.stdout.write(\\\\\"{}{}\\\\\".format(i, sep))\\\\nINF = float(\\'inf\\')\\\\nMOD = int(1e9 + 7)\\\\nYES = \\\\\"YES\\\\\"\\\\nNO = \\\\\"NO\\\\\"\\\\n\\\\nfor _ in range(int(input())):\\\\n  try:\\\\n    a, b, x, y = read()\\\\n    up = y * a\\\\n    down = (b - y - 1) * a\\\\n    left = x * b\\\\n    right = (a - x - 1) * b \\\\n\\\\n    print(max([up, down, left, right]))\\\\n\\\\n  except ZeroDivisionError:\\\\n    continue\\\\n\\\\n  except Exception as e:\\\\n    print(e)\\\\n    continue\", \"TC = int(input())\\\\n\\\\nfor _ in range(TC):\\\\n    a, b, x, y = list(map(int, input().split()))\\\\n    print((max(\\\\n        y * a,\\\\n        x * b,\\\\n        (b - y - 1) * a,\\\\n        (a - x - 1) * b\\\\n    )))\\\\n\\\\n\\\\n\\\\n\", \"for nt in range(int(input())):\\\\n\\\\ta,b,x,y=map(int,input().split())\\\\n\\\\ta1=max(x,0)*b\\\\n\\\\ta2=(a-x-1)*b\\\\n\\\\ta3=(y)*a\\\\n\\\\ta4=(b-y-1)*a\\\\n\\\\tprint (max(a1,a2,a3,a4))\", \"def main(a, b, x, y):\\\\n\\\\tsol = max(max(x, a-x-1)*b, max(y, b-y-1)*a)\\\\n\\\\tprint(sol)\\\\n\\\\nn = int(input())\\\\nfor _ in range(n):\\\\n\\\\tlst = list(map(int, input().split()))\\\\n\\\\ta, b, x, y = lst[0], lst[1], lst[2], lst[3]\\\\n\\\\tmain(a, b, x, y)\\\\n\", \"t=int(input())\\\\nfor i in range(t):\\\\n    a,b,x,y=list(map(int,input().split()))\\\\n    r = [a*y, b*x, a*(b-y-1), b*(a-x-1)]\\\\n    print(max(r))\\\\n\", \"t = int(input())\\\\nwhile t:\\\\n    t += -1\\\\n    a, b, x, y = map(int, input().split())\\\\n    a1 = b * x\\\\n    a2 = a * y\\\\n    a3 = b * (a - x - 1)\\\\n    a4 = a * (b - y - 1)\\\\n    print(max(a1, a2, a3, a4))\", \"from sys import stdin,stderr\\\\ndef rl():\\\\n    return [int(w) for w in stdin.readline().split()]\\\\n\\\\nt, = rl()\\\\nfor _ in range(t):\\\\n    a,b,x,y = rl()\\\\n    print(max(x*b,y*a,(a-x-1)*b,(b-y-1)*a))\\\\n\", \"t = int(input())\\\\nfor _ in range(t):\\\\n    a, b, x, y = list(map(int, input().split()))\\\\n    h = max(a-x-1, x) * b\\\\n    v = max(b-y-1, y) * a\\\\n    print(max(h, v))\\\\n\", \"import sys\\\\ninput = sys.stdin.readline\\\\n\\\\n\\\\ndef main():\\\\n    t = int(input())\\\\n    for _ in range(t):\\\\n        A, B, X, Y = [int(x) for x in input().split()]\\\\n        ma = 0\\\\n        ma = max(X * B, ma)\\\\n        ma = max(Y * A, ma)\\\\n        ma = max((A - X - 1) * B, ma)\\\\n        ma = max((B - Y - 1) * A, ma)\\\\n\\\\n        print(ma)\\\\n\\\\n\\\\n        \\\\n        \\\\n    \\\\n\\\\ndef __starting_point():\\\\n    main()\\\\n\\\\n\\\\n\\\\n__starting_point()\", \"t = int(input())\\\\nwhile t:\\\\n    t -= 1\\\\n    a, b, x, y = list(map(int, input().split()))\\\\n    area1 = a * y\\\\n    area2 = x * b\\\\n    area3 = (a - 1 - x) * b\\\\n    area4 = a * (b - 1 - y)\\\\n    print(max(area1, area2, area3, area4))\\\\n\", \"for _ in range(int(input())):\\\\n    a,b,x,y = map(int,input().split())\\\\n    total = a*b\\\\n    left = x*b\\\\n    right = total - left - b\\\\n    down = a*y\\\\n    up = total - down - a\\\\n    print( max( left, right, down, up ) )\", \"for i in range(int(input())):\\\\n    a, b, x, y = list(map(int, input().split()))\\\\n    print(max(a*max(y, b-y-1), b*max(x, a-x-1)))\\\\n\", \"#! /usr/bin/env python\\\\n# -*- coding: utf-8 -*-\\\\n# vim:fenc=tf-8\\\\n#\\\\n\\\\n\\\\\"\\\\\"\\\\\"\\\\n\\\\\"\\\\\"\\\\\"\\\\n\\\\nfrom operator import itemgetter\\\\nfrom collections import Counter\\\\n\\\\ndef solve(a, b, x, y):\\\\n    area1 = x*b\\\\n    area2 = (a-x-1)*b\\\\n    area3 = a*y\\\\n    area4 = a*(b-y-1)\\\\n    print(max(area1,area2,area3,area4))\\\\n\\\\n\\\\ndef main():\\\\n    t= int(input())\\\\n    for i in range(t):\\\\n        a, b, x, y = map(int,input().split())\\\\n        solve(a, b, x, y)\\\\n\\\\n\\\\ndef __starting_point():\\\\n    main()\\\\n__starting_point()\"]',\n 'input_output': '{\\n  \"inputs\": [\\n    \"6\\\\n8 8 0 0\\\\n1 10 0 3\\\\n17 31 10 4\\\\n2 1 0 0\\\\n5 10 3 9\\\\n10 10 4 8\\\\n\"\\n  ],\\n  \"outputs\": [\\n    \"56\\\\n6\\\\n442\\\\n1\\\\n45\\\\n80\\\\n\"\\n  ]\\n}',\n 'difficulty': 'interview',\n 'url': 'https://codeforces.com/problemset/problem/1315/A',\n 'starter_code': '',\n 'test_example': 'test'}"
     },
     "execution_count": 118,
     "metadata": {},
     "output_type": "execute_result"
    }
   ],
   "source": [
    "problem"
   ],
   "metadata": {
    "collapsed": false,
    "ExecuteTime": {
     "end_time": "2023-05-31T16:57:15.690806500Z",
     "start_time": "2023-05-31T16:57:15.675806100Z"
    }
   },
   "id": "60057ba1ce529ad3"
  },
  {
   "cell_type": "markdown",
   "source": [
    "# Extracting example test cases"
   ],
   "metadata": {
    "collapsed": false
   },
   "id": "31e0204b4fa1c9b4"
  },
  {
   "cell_type": "code",
   "execution_count": 119,
   "id": "fba76cab",
   "metadata": {
    "ExecuteTime": {
     "end_time": "2023-05-31T16:57:15.747805200Z",
     "start_time": "2023-05-31T16:57:15.698805500Z"
    }
   },
   "outputs": [],
   "source": [
    "def find_in_out(lines):\n",
    "    start_example = False\n",
    "    start_input = False\n",
    "    start_output = False \n",
    "    inputs = []\n",
    "    outputs = []\n",
    "    curr_input = ''\n",
    "    curr_output = ''\n",
    "    for line in lines:\n",
    "        \n",
    "        if len(line.strip())==0: \n",
    "            start_output = False\n",
    "            start_input = False \n",
    "            continue\n",
    "        \n",
    "        line1 = line.lower()\n",
    "        \n",
    "        if '-examples-' in line1 or '-example-' in line1 or '-example -' in line1 or \\\n",
    "            '-example 1-' in line1 or '-example 2-' in line1 or '-example 3-' in line1 or \\\n",
    "            '-example 4-' in line1 or '-example 5-' in line1 or \\\n",
    "            'example:' in line1 or \\\n",
    "            'example 1:' in line1 or 'example 2:' in line1 or '-example 3:' in line1 or \\\n",
    "            'example 4:' in line1 or 'example 5:' in line1:\n",
    "            start_example = True\n",
    "            continue\n",
    "        \n",
    "        if '-note-'.lower() in line1:\n",
    "            start_example = False\n",
    "            start_output = False\n",
    "            start_input = False\n",
    "            continue\n",
    "            \n",
    "        if (start_example and 'Input' in line) or ('-Sample Input' in line) \\\n",
    "            or ('-Example Input' in line) or ('Sample Input:' in line) \\\n",
    "            or ('-Sample input' in line):\n",
    "            start_input = True\n",
    "            start_output = False\n",
    "            \n",
    "            if len(curr_output)>0:\n",
    "                outputs.append(curr_output)\n",
    "                curr_output = ''\n",
    "            \n",
    "            if (not '-sample input' in line1) and (not '-example input' in line1) and (not '-sample input' in line1):\n",
    "                \n",
    "                if 'input:' in line1:\n",
    "                    temp = line1.replace('example','').replace('sample','').replace('input:','')\n",
    "                    if len(temp.strip())>0: \n",
    "                        curr_input = temp        \n",
    "            continue\n",
    "        \n",
    "        if (start_example and 'Output' in line) or ('-Sample Output' in line) \\\n",
    "            or ('-Example Output' in line) or ('Sample Output:' in line) \\\n",
    "            or ('-Sample output' in line):\n",
    "            start_output = True\n",
    "            start_input = False\n",
    "            \n",
    "            if len(curr_input)>0:\n",
    "                inputs.append(curr_input)\n",
    "                curr_input = ''\n",
    "                \n",
    "            if (not '-sample output' in line1) and (not '-example output' in line1) and (not '-sample output' in line1):\n",
    "                if 'output:' in line1:\n",
    "                    temp = line1.replace('example','').replace('sample','').replace('output:','')\n",
    "                    if len(temp.strip())>0: \n",
    "                        curr_output = temp\n",
    "            continue \n",
    "        \n",
    "        if start_input:\n",
    "            curr_input += line \n",
    "        \n",
    "        if start_output:\n",
    "            curr_output += line \n",
    "            \n",
    "    if len(curr_output)>0: \n",
    "        outputs.append(curr_output)\n",
    "        start_output = False\n",
    "            \n",
    "    if len(inputs)==0 or len(inputs) != len(outputs) or (start_output or start_input):\n",
    "        return None\n",
    "        \n",
    "    return {'inputs': inputs, 'outputs': outputs}"
   ]
  },
  {
   "cell_type": "code",
   "execution_count": 120,
   "id": "19fd8cc6",
   "metadata": {
    "ExecuteTime": {
     "end_time": "2023-05-31T16:57:17.099827900Z",
     "start_time": "2023-05-31T16:57:15.713807500Z"
    }
   },
   "outputs": [
    {
     "name": "stderr",
     "output_type": "stream",
     "text": [
      "100%|██████████| 5000/5000 [00:01<00:00, 3633.67it/s]"
     ]
    },
    {
     "name": "stdout",
     "output_type": "stream",
     "text": [
      "Non-English task: 17\n",
      "Zero-example-test task: 46\n"
     ]
    },
    {
     "name": "stderr",
     "output_type": "stream",
     "text": [
      "\n"
     ]
    },
    {
     "data": {
      "text/plain": "'\\nTrain dataset:\\nNon-English task: 0\\nZero-example-test task: 2770\\n\\nTest dataset:\\nNon-English task: 17\\nZero-example-test task: 46\\n'"
     },
     "execution_count": 120,
     "metadata": {},
     "output_type": "execute_result"
    }
   ],
   "source": [
    "non_eng = {}\n",
    "no_test = {}\n",
    "in_outs = {}\n",
    "\n",
    "for _, problem in tqdm(enumerate(target_dataset), total=len(target_dataset)):\n",
    "    problem: APPSTask\n",
    "    problem_idx = problem[\"problem_id\"]\n",
    "    full_text = problem[\"question\"]\n",
    "\n",
    "    # Reverse join operation where we put the text in a list based on the new line character\n",
    "    lines = [line + \"\\n\" for line in full_text.split(\"\\n\")]\n",
    "    lines[-1] = lines[-1].strip()\n",
    "    temp = full_text\n",
    "\n",
    "    in_out = find_in_out(lines)\n",
    "    in_outs[problem_idx] = in_out\n",
    "    \n",
    "    # special case with non-English problems\n",
    "    if 'Входные' in temp: \n",
    "        non_eng[problem_idx] = temp\n",
    "\n",
    "    elif in_outs[problem_idx] is None:\n",
    "        no_test[problem_idx] = temp\n",
    "    \n",
    "print(\"Non-English task: {}\".format(len(non_eng))) \n",
    "print(\"Zero-example-test task: {}\".format(len(no_test)))       \n",
    "\n",
    "'''\n",
    "Train dataset:\n",
    "Non-English task: 0\n",
    "Zero-example-test task: 2770\n",
    "\n",
    "Test dataset:\n",
    "Non-English task: 17\n",
    "Zero-example-test task: 46\n",
    "'''"
   ]
  },
  {
   "cell_type": "code",
   "execution_count": 121,
   "id": "f7eda3be",
   "metadata": {
    "ExecuteTime": {
     "end_time": "2023-05-31T16:57:17.115376500Z",
     "start_time": "2023-05-31T16:57:17.100828500Z"
    }
   },
   "outputs": [
    {
     "name": "stdout",
     "output_type": "stream",
     "text": [
      "Total number of samples: (5000,)\n",
      "Average extracted example test cases: 1.9764\n"
     ]
    },
    {
     "data": {
      "text/plain": "'\\nTrain dataset:\\nTotal number of samples: (5000,)\\nAverage extracted example test cases: 0.7406\\n\\nTest dataset:\\nTotal number of samples: (5000,)\\nAverage extracted example test cases: 1.9764\\n'"
     },
     "execution_count": 121,
     "metadata": {},
     "output_type": "execute_result"
    }
   ],
   "source": [
    "nb_example_tests = []\n",
    "for k,v in in_outs.items(): \n",
    "    if v is None:\n",
    "        nb_example_tests.append(0)\n",
    "    else:\n",
    "        nb_example_tests.append(len(v['inputs']))\n",
    "\n",
    "print(\"Total number of samples: {}\".format(np.array(nb_example_tests).shape))\n",
    "print(\"Average extracted example test cases: {}\".format(np.array(nb_example_tests).mean()))\n",
    "\n",
    "'''\n",
    "Train dataset:\n",
    "Total number of samples: (5000,)\n",
    "Average extracted example test cases: 0.7406\n",
    "\n",
    "Test dataset:\n",
    "Total number of samples: (5000,)\n",
    "Average extracted example test cases: 1.9764\n",
    "'''"
   ]
  },
  {
   "cell_type": "code",
   "execution_count": 106,
   "id": "81b26635",
   "metadata": {
    "ExecuteTime": {
     "end_time": "2023-05-30T13:55:31.604438800Z",
     "start_time": "2023-05-30T13:55:31.485792100Z"
    }
   },
   "outputs": [],
   "source": [
    "# Save the in_outs to the directory example_test_cases, make the directory if it did not exist yet\n",
    "os.makedirs(\"example_test_cases\", exist_ok=True)\n",
    "\n",
    "# with open(\"example_test_cases/train.json\", \"w\", encoding=\"utf-8\") as f:\n",
    "#      json.dump(in_outs, f)\n",
    "\n",
    "with open(\"example_test_cases/test.json\", \"w\", encoding=\"utf-8\") as f:\n",
    "      json.dump(in_outs, f)"
   ]
  },
  {
   "cell_type": "code",
   "execution_count": null,
   "outputs": [],
   "source": [],
   "metadata": {
    "collapsed": false
   },
   "id": "d31f65230306951f"
  }
 ],
 "metadata": {
  "kernelspec": {
   "display_name": "Python 3",
   "language": "python",
   "name": "python3"
  },
  "language_info": {
   "codemirror_mode": {
    "name": "ipython",
    "version": 3
   },
   "file_extension": ".py",
   "mimetype": "text/x-python",
   "name": "python",
   "nbconvert_exporter": "python",
   "pygments_lexer": "ipython3",
   "version": "3.7.2"
  }
 },
 "nbformat": 4,
 "nbformat_minor": 5
}
